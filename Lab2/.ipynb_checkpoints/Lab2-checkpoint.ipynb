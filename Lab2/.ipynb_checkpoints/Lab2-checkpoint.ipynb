{
 "cells": [
  {
   "cell_type": "markdown",
   "metadata": {},
   "source": [
    "# Lab 2: Q-Learning"
   ]
  },
  {
   "cell_type": "code",
   "execution_count": 2206,
   "metadata": {},
   "outputs": [],
   "source": [
    "import gym\n",
    "import numpy as np\n",
    "import random\n",
    "#import matplotlib.pyplot as plt\n",
    "#%matplotlib inline"
   ]
  },
  {
   "cell_type": "markdown",
   "metadata": {},
   "source": [
    "### Load the environment"
   ]
  },
  {
   "cell_type": "code",
   "execution_count": 2207,
   "metadata": {
    "scrolled": false
   },
   "outputs": [
    {
     "name": "stderr",
     "output_type": "stream",
     "text": [
      "[2017-09-26 19:56:11,559] Making new env: FrozenLake-v0\n"
     ]
    }
   ],
   "source": [
    "env = gym.make('FrozenLake-v0')"
   ]
  },
  {
   "cell_type": "markdown",
   "metadata": {},
   "source": [
    "### Implement Q learning algorithm"
   ]
  },
  {
   "cell_type": "code",
   "execution_count": 2208,
   "metadata": {},
   "outputs": [],
   "source": [
    "#Initialize table with all zeros in Q(s, a) table\n",
    "Q = np.zeros([env.observation_space.n, env.action_space.n])"
   ]
  },
  {
   "cell_type": "code",
   "execution_count": 2209,
   "metadata": {},
   "outputs": [],
   "source": [
    "# Set learning parameters\n",
    "\n",
    "# Learning rate\n",
    "lr = .8\n",
    "\n",
    "# Discount factor\n",
    "gamma = .95\n",
    "\n",
    "# Time horizon\n",
    "num_episodes = 2000\n"
   ]
  },
  {
   "cell_type": "code",
   "execution_count": 2210,
   "metadata": {
    "scrolled": true
   },
   "outputs": [],
   "source": [
    "random_rate = 0.99\n",
    "rewards = []\n",
    "for i in range(num_episodes):\n",
    " \n",
    "    s = env.reset()\n",
    "    episode_reward = 0\n",
    "    done = False\n",
    "    timestep = 0\n",
    "\n",
    "    for timestep in range(100):\n",
    "        #TODO: Choose an action by greedily (with noise) picking from Q table\n",
    "        if np.random.random() > random_rate:\n",
    "            a = np.argmax(Q[s,:])\n",
    "        else:\n",
    "            a = env.action_space.sample()\n",
    "        \n",
    "        #Get new state and reward from environment\n",
    "        next_s, reward, done, info = env.step(a)\n",
    "        #TODO: Update Q-Table with new knowledge\n",
    "        Q[s, a] = Q[s, a] + lr * (reward + gamma * np.max(Q[next_s,:]) - Q[s, a])\n",
    "        \n",
    "        random_rate *= 0.9995\n",
    "        \n",
    "        episode_reward += reward\n",
    "        s = next_s\n",
    "        if done == True:\n",
    "            break\n",
    "            \n",
    "    rewards.append(episode_reward)"
   ]
  },
  {
   "cell_type": "code",
   "execution_count": 2211,
   "metadata": {
    "scrolled": true
   },
   "outputs": [
    {
     "name": "stdout",
     "output_type": "stream",
     "text": [
      "Score over time: 0.5505\n"
     ]
    }
   ],
   "source": [
    "print(\"Score over time: \" +  str(sum(rewards)/num_episodes))"
   ]
  },
  {
   "cell_type": "code",
   "execution_count": 2212,
   "metadata": {},
   "outputs": [
    {
     "name": "stdout",
     "output_type": "stream",
     "text": [
      "Final Q-Table Values\n",
      "[[  3.66368490e-01   1.08438868e-02   1.11947139e-02   1.12890357e-02]\n",
      " [  1.11120955e-03   2.01953069e-03   2.81989938e-03   2.62643365e-01]\n",
      " [  3.50823099e-03   6.36545292e-03   7.04078848e-03   1.69766122e-01]\n",
      " [  4.76276146e-03   1.62018700e-03   2.79330249e-03   7.49362037e-02]\n",
      " [  5.21860795e-01   1.07909172e-02   9.56580178e-03   2.42817702e-03]\n",
      " [  0.00000000e+00   0.00000000e+00   0.00000000e+00   0.00000000e+00]\n",
      " [  1.35337626e-01   0.00000000e+00   1.24358026e-05   5.40932108e-06]\n",
      " [  0.00000000e+00   0.00000000e+00   0.00000000e+00   0.00000000e+00]\n",
      " [  1.19997352e-02   5.10858369e-03   4.65989000e-03   3.29681078e-01]\n",
      " [  2.64115056e-03   7.14983003e-01   6.82422994e-03   4.38682375e-03]\n",
      " [  1.61745057e-01   8.57830349e-04   1.47902256e-03   1.83828350e-03]\n",
      " [  0.00000000e+00   0.00000000e+00   0.00000000e+00   0.00000000e+00]\n",
      " [  0.00000000e+00   0.00000000e+00   0.00000000e+00   0.00000000e+00]\n",
      " [  1.53100289e-03   2.91472878e-02   7.19521702e-01   6.41677184e-02]\n",
      " [  1.34476223e-01   8.55740036e-01   1.53145569e-01   1.09315453e-01]\n",
      " [  0.00000000e+00   0.00000000e+00   0.00000000e+00   0.00000000e+00]]\n"
     ]
    }
   ],
   "source": [
    "print(\"Final Q-Table Values\")\n",
    "print(Q)"
   ]
  },
  {
   "cell_type": "code",
   "execution_count": null,
   "metadata": {},
   "outputs": [],
   "source": []
  },
  {
   "cell_type": "code",
   "execution_count": null,
   "metadata": {},
   "outputs": [],
   "source": []
  },
  {
   "cell_type": "code",
   "execution_count": null,
   "metadata": {},
   "outputs": [],
   "source": []
  }
 ],
 "metadata": {
  "anaconda-cloud": {},
  "kernelspec": {
   "display_name": "Python 3",
   "language": "python",
   "name": "python3"
  },
  "language_info": {
   "codemirror_mode": {
    "name": "ipython",
    "version": 3
   },
   "file_extension": ".py",
   "mimetype": "text/x-python",
   "name": "python",
   "nbconvert_exporter": "python",
   "pygments_lexer": "ipython3",
   "version": "3.5.2"
  }
 },
 "nbformat": 4,
 "nbformat_minor": 1
}
