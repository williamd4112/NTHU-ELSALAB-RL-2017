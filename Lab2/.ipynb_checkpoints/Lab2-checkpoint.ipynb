{
 "cells": [
  {
   "cell_type": "markdown",
   "metadata": {},
   "source": [
    "# Lab 2: Q-Learning"
   ]
  },
  {
   "cell_type": "code",
   "execution_count": 32,
   "metadata": {},
   "outputs": [],
   "source": [
    "import gym\n",
    "import numpy as np\n",
    "import random\n",
    "#import matplotlib.pyplot as plt\n",
    "#%matplotlib inline"
   ]
  },
  {
   "cell_type": "markdown",
   "metadata": {},
   "source": [
    "### Load the environment"
   ]
  },
  {
   "cell_type": "code",
   "execution_count": 66,
   "metadata": {
    "scrolled": false
   },
   "outputs": [
    {
     "name": "stderr",
     "output_type": "stream",
     "text": [
      "[2017-09-25 20:25:26,503] Making new env: FrozenLake-v0\n"
     ]
    }
   ],
   "source": [
    "env = gym.make('FrozenLake-v0')"
   ]
  },
  {
   "cell_type": "markdown",
   "metadata": {},
   "source": [
    "### Implement Q learning algorithm"
   ]
  },
  {
   "cell_type": "code",
   "execution_count": 67,
   "metadata": {},
   "outputs": [],
   "source": [
    "#Initialize table with all zeros in Q(s, a) table\n",
    "Q = np.zeros([env.observation_space.n, env.action_space.n])"
   ]
  },
  {
   "cell_type": "code",
   "execution_count": 76,
   "metadata": {},
   "outputs": [],
   "source": [
    "# Set learning parameters\n",
    "\n",
    "# Learning rate\n",
    "lr = .8\n",
    "\n",
    "# Discount factor\n",
    "gamma = .97\n",
    "\n",
    "# Time horizon\n",
    "num_episodes = 2000"
   ]
  },
  {
   "cell_type": "code",
   "execution_count": 91,
   "metadata": {
    "scrolled": true
   },
   "outputs": [],
   "source": [
    "rewards = []\n",
    "for i in range(num_episodes):\n",
    " \n",
    "    s = env.reset()\n",
    "    episode_reward = 0\n",
    "    done = False\n",
    "    timestep = 0\n",
    "\n",
    "    for timestep in range(100):\n",
    "        \n",
    "        #TODO: Choose an action by greedily (with noise) picking from Q table\n",
    "        a = np.argmax(Q[s, :] + np.random.randn(1, env.action_space.n)*(1./(i+1))) # greedy choose action\n",
    "        #Get new state and reward from environment\n",
    "        next_s, reward, done, info = env.step(a)\n",
    "        \n",
    "        #TODO: Update Q-Table with new knowledge\n",
    "        Q[s, a] += lr * (reward + gamma * np.max(Q[next_s, :]) - Q[s, a])\n",
    "        episode_reward += reward\n",
    "        s = next_s\n",
    "        \n",
    "        if done == True:\n",
    "            break\n",
    "    \n",
    "    rewards.append(episode_reward)"
   ]
  },
  {
   "cell_type": "code",
   "execution_count": 92,
   "metadata": {
    "scrolled": true
   },
   "outputs": [
    {
     "name": "stdout",
     "output_type": "stream",
     "text": [
      "Score over time: 0.543\n"
     ]
    }
   ],
   "source": [
    "print(\"Score over time: \" +  str(sum(rewards)/num_episodes))"
   ]
  },
  {
   "cell_type": "code",
   "execution_count": 93,
   "metadata": {},
   "outputs": [
    {
     "name": "stdout",
     "output_type": "stream",
     "text": [
      "Final Q-Table Values\n",
      "[[  2.19751288e-01   2.07328852e-02   1.94692073e-02   1.81583977e-02]\n",
      " [  7.58573581e-03   6.89861467e-03   6.43616250e-03   2.18542472e-01]\n",
      " [  7.54870696e-03   6.83493110e-03   1.05418268e-02   2.42242053e-01]\n",
      " [  2.03718009e-03   1.59799320e-03   1.60754956e-03   1.33821870e-01]\n",
      " [  2.81247770e-01   8.93558777e-03   2.11005361e-02   8.55796279e-03]\n",
      " [  0.00000000e+00   0.00000000e+00   0.00000000e+00   0.00000000e+00]\n",
      " [  1.96734056e-04   4.90481203e-05   1.62097062e-01   2.10038208e-05]\n",
      " [  0.00000000e+00   0.00000000e+00   0.00000000e+00   0.00000000e+00]\n",
      " [  7.48713401e-03   4.60574821e-03   3.65723768e-03   5.23085451e-01]\n",
      " [  4.60634062e-03   6.88397856e-01   4.05339789e-03   5.96405597e-03]\n",
      " [  2.48182632e-01   2.18592117e-03   1.66711956e-03   3.01710536e-03]\n",
      " [  0.00000000e+00   0.00000000e+00   0.00000000e+00   0.00000000e+00]\n",
      " [  0.00000000e+00   0.00000000e+00   0.00000000e+00   0.00000000e+00]\n",
      " [  8.52143503e-03   4.53258569e-02   6.96040877e-01   3.56263902e-02]\n",
      " [  1.32707340e-01   7.99953145e-01   1.24416062e-01   1.27843452e-01]\n",
      " [  0.00000000e+00   0.00000000e+00   0.00000000e+00   0.00000000e+00]]\n"
     ]
    }
   ],
   "source": [
    "print(\"Final Q-Table Values\")\n",
    "print(Q)"
   ]
  },
  {
   "cell_type": "code",
   "execution_count": null,
   "metadata": {},
   "outputs": [],
   "source": []
  },
  {
   "cell_type": "code",
   "execution_count": null,
   "metadata": {},
   "outputs": [],
   "source": []
  },
  {
   "cell_type": "code",
   "execution_count": null,
   "metadata": {},
   "outputs": [],
   "source": []
  }
 ],
 "metadata": {
  "anaconda-cloud": {},
  "kernelspec": {
   "display_name": "Python 3",
   "language": "python",
   "name": "python3"
  },
  "language_info": {
   "codemirror_mode": {
    "name": "ipython",
    "version": 3
   },
   "file_extension": ".py",
   "mimetype": "text/x-python",
   "name": "python",
   "nbconvert_exporter": "python",
   "pygments_lexer": "ipython3",
   "version": "3.6.2"
  }
 },
 "nbformat": 4,
 "nbformat_minor": 1
}
