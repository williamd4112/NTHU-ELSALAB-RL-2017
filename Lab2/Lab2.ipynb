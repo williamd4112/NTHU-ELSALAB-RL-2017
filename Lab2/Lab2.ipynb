{
 "cells": [
  {
   "cell_type": "markdown",
   "metadata": {},
   "source": [
    "# Lab 2: Q-Learning"
   ]
  },
  {
   "cell_type": "code",
   "execution_count": 218,
   "metadata": {
    "collapsed": true
   },
   "outputs": [],
   "source": [
    "import gym\n",
    "import numpy as np\n",
    "import random\n",
    "#import matplotlib.pyplot as plt\n",
    "#%matplotlib inline"
   ]
  },
  {
   "cell_type": "markdown",
   "metadata": {},
   "source": [
    "### Load the environment"
   ]
  },
  {
   "cell_type": "code",
   "execution_count": 219,
   "metadata": {
    "scrolled": false
   },
   "outputs": [
    {
     "name": "stderr",
     "output_type": "stream",
     "text": [
      "[2017-09-26 10:05:49,450] Making new env: FrozenLake-v0\n"
     ]
    }
   ],
   "source": [
    "env = gym.make('FrozenLake-v0')"
   ]
  },
  {
   "cell_type": "markdown",
   "metadata": {},
   "source": [
    "### Implement Q learning algorithm"
   ]
  },
  {
   "cell_type": "code",
   "execution_count": 220,
   "metadata": {
    "collapsed": true
   },
   "outputs": [],
   "source": [
    "#Initialize table with all zeros in Q(s, a) table\n",
    "Q = np.zeros([env.observation_space.n, env.action_space.n])"
   ]
  },
  {
   "cell_type": "code",
   "execution_count": 221,
   "metadata": {
    "collapsed": true
   },
   "outputs": [],
   "source": [
    "# Set learning parameters\n",
    "\n",
    "# Learning rate\n",
    "lr = .8\n",
    "\n",
    "# Discount factor\n",
    "gamma = .95\n",
    "\n",
    "# Time horizon\n",
    "num_episodes = 5000\n",
    "\n",
    "# epsilon\n",
    "epsilon = .9"
   ]
  },
  {
   "cell_type": "code",
   "execution_count": 222,
   "metadata": {
    "collapsed": true,
    "scrolled": false
   },
   "outputs": [],
   "source": [
    "rewards = []\n",
    "for i in range(num_episodes):\n",
    " \n",
    "    s = env.reset()\n",
    "    episode_reward = 0\n",
    "    done = False\n",
    "    timestep = 0\n",
    "    \n",
    "    if(num_episodes % 100 == 0):\n",
    "        epsilon *= .99\n",
    "#         print(epsilon)\n",
    "    \n",
    "    for timestep in range(100):\n",
    "        #TODO: Choose an action by greedily (with noise) picking from Q table\n",
    "        random_a = random.randint(0,3)\n",
    "        a = Q[s].argmax(axis=0) if (random.uniform(0, 1) > epsilon) else random_a\n",
    "        \n",
    "#         if(i < 100 or i > 4000):\n",
    "#             print(i, a, Q[s].argmax(axis=0), random_a)\n",
    "        \n",
    "        #Get new state and reward from environment\n",
    "        next_s, reward, done, info = env.step(a)\n",
    "\n",
    "        #TODO: Update Q-Table with new knowledge\n",
    "        max_a = Q[next_s].argmax(axis=0)\n",
    "        if done is not True:\n",
    "            Q[s][a] = Q[s][a] + lr * (reward + gamma * Q[next_s][max_a] - Q[s][a])\n",
    "        else:\n",
    "            Q[s][a] = Q[s][a] + lr * (reward - Q[s][a])\n",
    "        \n",
    "        episode_reward += reward\n",
    "        s = next_s\n",
    "        \n",
    "        if done == True:\n",
    "            break\n",
    "\n",
    "    rewards.append(episode_reward)"
   ]
  },
  {
   "cell_type": "code",
   "execution_count": 223,
   "metadata": {
    "scrolled": true
   },
   "outputs": [
    {
     "name": "stdout",
     "output_type": "stream",
     "text": [
      "Score over time: 0.6518\n"
     ]
    }
   ],
   "source": [
    "print(\"Score over time: \" +  str(sum(rewards)/num_episodes))"
   ]
  },
  {
   "cell_type": "code",
   "execution_count": 224,
   "metadata": {
    "scrolled": true
   },
   "outputs": [
    {
     "name": "stdout",
     "output_type": "stream",
     "text": [
      "Final Q-Table Values\n",
      "[[  3.23927146e-01   6.88846634e-04   2.69654525e-03   2.29677811e-03]\n",
      " [  1.15211619e-04   2.98826049e-07   2.56872406e-05   1.81673284e-01]\n",
      " [  6.38437028e-04   0.00000000e+00   1.72149331e-03   1.05171969e-01]\n",
      " [  2.26928443e-04   0.00000000e+00   3.50962992e-04   6.39113337e-02]\n",
      " [  3.86882497e-01   1.31916055e-03   2.73675116e-03   1.57448447e-03]\n",
      " [  0.00000000e+00   0.00000000e+00   0.00000000e+00   0.00000000e+00]\n",
      " [  9.81212138e-06   3.23661218e-06   2.48550874e-01   4.97170839e-06]\n",
      " [  0.00000000e+00   0.00000000e+00   0.00000000e+00   0.00000000e+00]\n",
      " [  1.13977527e-03   1.92267229e-03   3.17972458e-03   5.40211067e-01]\n",
      " [  3.28949540e-03   6.45423657e-01   2.09102785e-03   1.48369435e-03]\n",
      " [  7.82476315e-01   0.00000000e+00   0.00000000e+00   1.55723250e-04]\n",
      " [  0.00000000e+00   0.00000000e+00   0.00000000e+00   0.00000000e+00]\n",
      " [  0.00000000e+00   0.00000000e+00   0.00000000e+00   0.00000000e+00]\n",
      " [  4.73980559e-03   1.38769357e-02   8.74949423e-01   7.43882773e-04]\n",
      " [  2.74630331e-02   9.96731316e-01   2.01891501e-02   4.79054274e-02]\n",
      " [  0.00000000e+00   0.00000000e+00   0.00000000e+00   0.00000000e+00]]\n"
     ]
    }
   ],
   "source": [
    "print(\"Final Q-Table Values\")\n",
    "print(Q)"
   ]
  },
  {
   "cell_type": "code",
   "execution_count": null,
   "metadata": {
    "collapsed": true
   },
   "outputs": [],
   "source": []
  },
  {
   "cell_type": "code",
   "execution_count": null,
   "metadata": {
    "collapsed": true
   },
   "outputs": [],
   "source": []
  }
 ],
 "metadata": {
  "anaconda-cloud": {},
  "kernelspec": {
   "display_name": "Python 2",
   "language": "python",
   "name": "python2"
  },
  "language_info": {
   "codemirror_mode": {
    "name": "ipython",
    "version": 2
   },
   "file_extension": ".py",
   "mimetype": "text/x-python",
   "name": "python",
   "nbconvert_exporter": "python",
   "pygments_lexer": "ipython2",
   "version": "2.7.10"
  }
 },
 "nbformat": 4,
 "nbformat_minor": 1
}
